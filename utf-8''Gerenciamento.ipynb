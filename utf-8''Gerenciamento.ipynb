{
  "cells": [
    {
      "metadata": {
        "collapsed": true,
        "trusted": false
      },
      "cell_type": "markdown",
      "source": "<center> <h3>INTRODUÇÃO</h3> </center>\n"
    },
    {
      "metadata": {},
      "cell_type": "markdown",
      "source": "</i>Tudo começa com o fim do ensino médio, onde o estudante tem a grande missão: escolher uma carreira e ingressar em uma universidade. Escolha feita, é hora de escolher meios facilitadores para todo o decorrer da vida acadêmica. Assim, tornou-se uma prática muito comum e necessária a procura por moradias compartilhadas, também conhecidas por repúblicas estudantis, visto que boa parte das pessoas que adotam tal prática moram em outras cidades e, até mesmo, outros estados.\nO intuito das repúblicas é basicamente servir de base para esses estudantes onde realizarão suas atividades comuns no período em que estiverem fora da sala de aula e, no fim de tudo, todos os gastos serão igualmente divididos."
    },
    {
      "metadata": {},
      "cell_type": "markdown",
      "source": "<center> <h3>PROBLEMÁTICA</h3> </center>"
    },
    {
      "metadata": {},
      "cell_type": "markdown",
      "source": "</i>Do mesmo modo que um indivíduo pode estudar meio período e utilizar de maneira mais frequente equipamentos que consomem energia elétrica, pode ocorrer também do outro indivíduo que compartilha o ambiente trabalhar em um período e estudar em outro ou simplesmente estudar em período integral, tornando sua estadia mais curta diariamente e, consequentemente, o fazendo consumir bem menos energia se comparado ao que passa mais tempo em casa.\nNo fim do mês, no momento do acerto das contas é comum a divisão igualitária para todos os moradores, de onde surge nosso ponto de partida.\n"
    },
    {
      "metadata": {},
      "cell_type": "markdown",
      "source": "<center> <h3>IDEIA INICIAL</h3> </center>"
    },
    {
      "metadata": {},
      "cell_type": "markdown",
      "source": "</i> Inicialmente, partimos do princípio de criar um facilitador que fosse capaz de identificar o usuário, o aparelho a ser utilizado, o tempo de utilização e o que mais fosse necessário para o cálculo do consumo. No fim de tudo, os dados seriam exportados para uma espécie de banco de dados que devolveria o resultado individual, já em valor real."
    },
    {
      "metadata": {},
      "cell_type": "markdown",
      "source": "<center> <h3>VANTAGENS</h3> </center>"
    },
    {
      "metadata": {},
      "cell_type": "markdown",
      "source": "</i>Além da divisão justa do valor a ser pago, o consumo consciente também é um atributo visto que os usuários poderão ter acesso às informações recolhidas, mesmo fora do período de fechamento."
    },
    {
      "metadata": {
        "trusted": true
      },
      "cell_type": "code",
      "source": "",
      "execution_count": null,
      "outputs": []
    }
  ],
  "metadata": {
    "kernelspec": {
      "name": "python36",
      "display_name": "Python 3.6",
      "language": "python"
    },
    "language_info": {
      "mimetype": "text/x-python",
      "nbconvert_exporter": "python",
      "name": "python",
      "pygments_lexer": "ipython3",
      "version": "3.6.6",
      "file_extension": ".py",
      "codemirror_mode": {
        "version": 3,
        "name": "ipython"
      }
    }
  },
  "nbformat": 4,
  "nbformat_minor": 2
}